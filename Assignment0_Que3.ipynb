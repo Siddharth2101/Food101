{
 "cells": [
  {
   "cell_type": "code",
   "execution_count": 47,
   "id": "6a4e7770-72c6-47f5-ae1f-7c5a3f956411",
   "metadata": {
    "scrolled": true
   },
   "outputs": [
    {
     "name": "stdout",
     "output_type": "stream",
     "text": [
      "         Student Name  Course  Marks (%)  Attendance (%)\n",
      "0         Dipon Konar  ELC111      56.72           63.08\n",
      "1      Parth Parashar  PHY113      84.59           20.96\n",
      "2         Anurag Sahu  MTH113      41.13           59.86\n",
      "3    Hemakshi Kumawat  CHM112      59.43           57.34\n",
      "4      Parth Parashar  ELC111      62.88           30.82\n",
      "..                ...     ...        ...             ...\n",
      "195     Kritika Singh  ELC112      68.57           77.98\n",
      "196   Harshit Karnani  PHY112      52.31           35.75\n",
      "197       Sneha Patra  PHY113      58.98           21.98\n",
      "198       Ashma Singh  PHY111      88.56           82.63\n",
      "199    Parth Parashar  PHY115      80.52           42.89\n",
      "\n",
      "[200 rows x 4 columns]\n"
     ]
    }
   ],
   "source": [
    "import pandas as pd\n",
    "df=pd.read_csv('IITK_Courses_Report.csv')\n",
    "mat=df.values.tolist()"
   ]
  },
  {
   "cell_type": "code",
   "execution_count": 48,
   "id": "ddd0d74a-5b92-425d-8c1a-fd6e0b14874b",
   "metadata": {
    "scrolled": true
   },
   "outputs": [],
   "source": [
    "nvdf=df.isnull()"
   ]
  },
  {
   "cell_type": "code",
   "execution_count": 49,
   "id": "d8a2accf-d88d-4d5e-b31d-c34b4abbbc8b",
   "metadata": {},
   "outputs": [],
   "source": [
    "i=0\n",
    "while i<len(mat):\n",
    "    if mat[i][0]!=mat[i][0]:\n",
    "        mat.pop(i)\n",
    "        continue\n",
    "    if mat[i][1]!=mat[i][1]:\n",
    "        mat.pop(i)\n",
    "        continue\n",
    "    if mat[i][2]!=mat[i][2]:\n",
    "        mat[i][2]= (mat[i-1][2]*mat[i+1][2])**(0.5)\n",
    "    if mat[i][3]!=mat[i][3]:\n",
    "        mat[i][3]= (mat[i-1][3]*mat[i+1][3])**(0.5)\n",
    "    i=i+1\n",
    "    "
   ]
  },
  {
   "cell_type": "code",
   "execution_count": 50,
   "id": "538d406b-55cf-4156-a7c5-508400d80865",
   "metadata": {},
   "outputs": [],
   "source": [
    "df_clean=df = pd.DataFrame(mat, columns=['Student Name', 'Course','Marks (%)','Attendance (%)'])\n"
   ]
  },
  {
   "cell_type": "code",
   "execution_count": 51,
   "id": "93f51365-edc4-4cee-b214-d9878d7fb66e",
   "metadata": {},
   "outputs": [],
   "source": [
    "df_clean.to_csv(\"cleaned_IITK_Courses_Report.csv\", index=False)"
   ]
  },
  {
   "cell_type": "code",
   "execution_count": null,
   "id": "0440de55-29d5-4e75-a949-8b0b994b2919",
   "metadata": {},
   "outputs": [],
   "source": []
  }
 ],
 "metadata": {
  "kernelspec": {
   "display_name": "Python 3 (ipykernel)",
   "language": "python",
   "name": "python3"
  },
  "language_info": {
   "codemirror_mode": {
    "name": "ipython",
    "version": 3
   },
   "file_extension": ".py",
   "mimetype": "text/x-python",
   "name": "python",
   "nbconvert_exporter": "python",
   "pygments_lexer": "ipython3",
   "version": "3.12.7"
  }
 },
 "nbformat": 4,
 "nbformat_minor": 5
}
